{
 "cells": [
  {
   "cell_type": "code",
   "execution_count": 1,
   "id": "ea08f448-4a50-48e7-800e-daae01f4d272",
   "metadata": {},
   "outputs": [],
   "source": [
    "import duckdb"
   ]
  },
  {
   "cell_type": "code",
   "execution_count": 2,
   "id": "649b1621-4139-4c51-af45-21ffe233ab0e",
   "metadata": {},
   "outputs": [],
   "source": [
    "con = duckdb.connect(':memory:')"
   ]
  },
  {
   "cell_type": "code",
   "execution_count": 3,
   "id": "9a41cfd8-a814-4828-9db8-9ec3a34bb458",
   "metadata": {},
   "outputs": [
    {
     "name": "stdout",
     "output_type": "stream",
     "text": [
      "Data from new Delta table: [('three', 3), ('one', 1), ('five', 5), ('four', 4), ('two', 2)]\n"
     ]
    }
   ],
   "source": [
    "try:\n",
    "    results = con.execute(\"\"\"\n",
    "    SELECT *\n",
    "    FROM delta_scan('./new_alpha_nums')\n",
    "    \"\"\").fetchall()\n",
    "    print(\"Data from new Delta table:\", results)\n",
    "except Exception as e:\n",
    "    print(\"Error reading new Delta table:\", str(e))"
   ]
  },
  {
   "cell_type": "code",
   "execution_count": null,
   "id": "fc2f3ae4-a92e-40d5-9fef-2e0279ffef8a",
   "metadata": {},
   "outputs": [],
   "source": []
  }
 ],
 "metadata": {
  "kernelspec": {
   "display_name": "Python 3 (ipykernel)",
   "language": "python",
   "name": "python3"
  },
  "language_info": {
   "codemirror_mode": {
    "name": "ipython",
    "version": 3
   },
   "file_extension": ".py",
   "mimetype": "text/x-python",
   "name": "python",
   "nbconvert_exporter": "python",
   "pygments_lexer": "ipython3",
   "version": "3.11.9"
  }
 },
 "nbformat": 4,
 "nbformat_minor": 5
}
