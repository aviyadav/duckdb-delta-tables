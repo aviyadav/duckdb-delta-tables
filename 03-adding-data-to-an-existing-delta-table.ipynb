{
 "cells": [
  {
   "cell_type": "code",
   "execution_count": 1,
   "id": "c887bddb-690f-4592-922f-de46d28d1b07",
   "metadata": {},
   "outputs": [],
   "source": [
    "import pandas as pd\n",
    "from deltalake import DeltaTable, write_deltalake\n",
    "import duckdb"
   ]
  },
  {
   "cell_type": "code",
   "execution_count": 2,
   "id": "613cdb02-b06c-4ae5-a29b-73e617567473",
   "metadata": {},
   "outputs": [],
   "source": [
    "new_df = pd.DataFrame({\n",
    "    'col1': ['six', 'seven', 'eight', 'nine', 'ten'],\n",
    "    'col2': [6, 7, 8, 9, 10]\n",
    "})"
   ]
  },
  {
   "cell_type": "code",
   "execution_count": 4,
   "id": "64989c0b-a471-48be-a1af-a040a5dcff80",
   "metadata": {},
   "outputs": [],
   "source": [
    "write_deltalake(\"./new_alpha_nums\", new_df, mode='append', partition_by=[\"col1\"])"
   ]
  },
  {
   "cell_type": "code",
   "execution_count": 10,
   "id": "c391c776-c84c-40dc-84ca-4f6e44e20b80",
   "metadata": {},
   "outputs": [],
   "source": [
    "con = duckdb.connect(':memory:')"
   ]
  },
  {
   "cell_type": "code",
   "execution_count": 11,
   "id": "ddbaa56c-7856-416e-be48-ce12eca13e01",
   "metadata": {},
   "outputs": [
    {
     "name": "stdout",
     "output_type": "stream",
     "text": [
      "Data from updated Delta table:\n",
      "('one', 1)\n",
      "('two', 2)\n",
      "('three', 3)\n",
      "('four', 4)\n",
      "('five', 5)\n",
      "('six', 6)\n",
      "('seven', 7)\n",
      "('eight', 8)\n",
      "('nine', 9)\n",
      "('ten', 10)\n"
     ]
    }
   ],
   "source": [
    "try:\n",
    "    results = con.execute(\"\"\"\n",
    "    SELECT *\n",
    "    FROM delta_scan('./new_alpha_nums')\n",
    "    ORDER BY col2\n",
    "    \"\"\").fetchall()\n",
    "    print(\"Data from updated Delta table:\")\n",
    "    for row in results:\n",
    "        print(row)\n",
    "except Exception as e:\n",
    "    print(\"Error reading updated Delta table:\", str(e))"
   ]
  },
  {
   "cell_type": "code",
   "execution_count": 12,
   "id": "6e47b31a-e8bd-4490-9d41-b184ee79d90f",
   "metadata": {},
   "outputs": [
    {
     "name": "stdout",
     "output_type": "stream",
     "text": [
      "\n",
      "Total number of rows: 10\n"
     ]
    }
   ],
   "source": [
    "try:\n",
    "    count = con.execute(\"\"\"\n",
    "    SELECT COUNT(*) as row_count\n",
    "    FROM delta_scan('./new_alpha_nums')\n",
    "    \"\"\").fetchone()[0]\n",
    "    print(f\"\\nTotal number of rows: {count}\")\n",
    "except Exception as e:\n",
    "    print(\"Error counting rows:\", str(e))\n"
   ]
  },
  {
   "cell_type": "code",
   "execution_count": null,
   "id": "8259b878-8ece-4e2f-8f0f-6b73977fb271",
   "metadata": {},
   "outputs": [],
   "source": []
  }
 ],
 "metadata": {
  "kernelspec": {
   "display_name": "Python 3 (ipykernel)",
   "language": "python",
   "name": "python3"
  },
  "language_info": {
   "codemirror_mode": {
    "name": "ipython",
    "version": 3
   },
   "file_extension": ".py",
   "mimetype": "text/x-python",
   "name": "python",
   "nbconvert_exporter": "python",
   "pygments_lexer": "ipython3",
   "version": "3.11.9"
  }
 },
 "nbformat": 4,
 "nbformat_minor": 5
}
